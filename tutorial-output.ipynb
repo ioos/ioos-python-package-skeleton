{
 "cells": [
  {
   "cell_type": "markdown",
   "metadata": {},
   "source": [
    "# ioos_pkg_skeleton tutorial"
   ]
  },
  {
   "cell_type": "code",
   "execution_count": 1,
   "metadata": {
    "execution": {
     "iopub.execute_input": "2023-02-27T19:29:13.505847Z",
     "iopub.status.busy": "2023-02-27T19:29:13.505515Z",
     "iopub.status.idle": "2023-02-27T19:29:13.599655Z",
     "shell.execute_reply": "2023-02-27T19:29:13.599220Z"
    }
   },
   "outputs": [
    {
     "data": {
      "text/plain": [
       "array([[42., 42., 42.],\n",
       "       [42., 42., 42.],\n",
       "       [42., 42., 42.]])"
      ]
     },
     "execution_count": 1,
     "metadata": {},
     "output_type": "execute_result"
    }
   ],
   "source": [
    "import ioos_pkg_skeleton\n",
    "\n",
    "\n",
    "ioos_pkg_skeleton.meaning_of_life(3)"
   ]
  },
  {
   "cell_type": "code",
   "execution_count": 2,
   "metadata": {
    "execution": {
     "iopub.execute_input": "2023-02-27T19:29:13.631240Z",
     "iopub.status.busy": "2023-02-27T19:29:13.630989Z",
     "iopub.status.idle": "2023-02-27T19:29:13.834505Z",
     "shell.execute_reply": "2023-02-27T19:29:13.833845Z"
    }
   },
   "outputs": [
    {
     "data": {
      "text/plain": [
       "\"Monty Python's The Meaning of Life, also known simply as The Meaning of Life, is a 1983 British musical sketch comedy film written and performed by the Monty Python troupe, directed by Terry Jones. The Meaning of Life was the last feature film to star all six Python members before the death of Graham Chapman in 1989.\""
      ]
     },
     "execution_count": 2,
     "metadata": {},
     "output_type": "execute_result"
    }
   ],
   "source": [
    "ioos_pkg_skeleton.meaning_of_life_url()"
   ]
  }
 ],
 "metadata": {
  "kernelspec": {
   "display_name": "Python 3 (ipykernel)",
   "language": "python",
   "name": "python3"
  },
  "language_info": {
   "codemirror_mode": {
    "name": "ipython",
    "version": 3
   },
   "file_extension": ".py",
   "mimetype": "text/x-python",
   "name": "python",
   "nbconvert_exporter": "python",
   "pygments_lexer": "ipython3",
   "version": "3.11.0"
  }
 },
 "nbformat": 4,
 "nbformat_minor": 4
}
