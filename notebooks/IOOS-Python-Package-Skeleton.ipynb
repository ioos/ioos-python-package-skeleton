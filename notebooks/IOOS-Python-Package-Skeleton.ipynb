{
 "cells": [
  {
   "cell_type": "markdown",
   "metadata": {},
   "source": [
    "# Python ~~packaging~~ (best practices and community building)\n",
    "\n",
    "## Jun 5, 2020\n",
    "\n",
    "Based on https://docs.google.com/presentation/d/11-fwwDKKMDc1dt-MrY1IhNUkhqax7AhwsxbynAvRAGU/edit#slide=id.g64bd9da3ea_0_8"
   ]
  },
  {
   "cell_type": "markdown",
   "metadata": {},
   "source": [
    "## Motivation\n",
    "\n",
    "\n",
    "![](https://imgs.xkcd.com/comics/tar.png)"
   ]
  },
  {
   "cell_type": "markdown",
   "metadata": {},
   "source": [
    "## How bad is the packaging situation?\n",
    "\n",
    "1654                                                           | 1987\n",
    ":-------------------------------------------------------------:|:-------------------------:\n",
    "![](https://imgs.xkcd.com/comics/universal_install_script.png) |  ![](https://imgs.xkcd.com/comics/python_environment.png)"
   ]
  },
  {
   "cell_type": "markdown",
   "metadata": {},
   "source": [
    "## One-stop shop for packaging needs\n",
    "\n",
    "\n",
    "https://github.com/ioos/ioos-python-package-skeleton"
   ]
  },
  {
   "cell_type": "markdown",
   "metadata": {},
   "source": [
    "## Are we doing this right?\n",
    "\n",
    "(or “Why not a cookie-cutter?”)\n",
    "\n",
    "![](https://imgs.xkcd.com/comics/the_general_problem.png)"
   ]
  },
  {
   "cell_type": "markdown",
   "metadata": {},
   "source": [
    "# Project structure\n",
    "\n",
    "\n",
    "```\n",
    "|-docs\n",
    "| |-source\n",
    "| | |-_static\n",
    "| |-build\n",
    "|-tests\n",
    "|-ioos_pkg_skeleton\n",
    "```\n",
    "\n",
    "Why are the tests outside of the module?"
   ]
  },
  {
   "cell_type": "markdown",
   "metadata": {},
   "source": [
    "## Ciao setup.py\n",
    "\n",
    "```python\n",
    "from setuptools import setup\n",
    "\n",
    "setup(\n",
    "    use_scm_version={\n",
    "        \"write_to\": \"ioos_pkg_skeleton/_version.py\",\n",
    "        \"write_to_template\": '__version__ = \"{version}\"',\n",
    "        \"tag_regex\": r\"^(?P<prefix>v)?(?P<version>[^\\+]+)(?P<suffix>.*)?$\",\n",
    "    }\n",
    ")\n",
    "\n",
    "```"
   ]
  },
  {
   "cell_type": "markdown",
   "metadata": {},
   "source": [
    "## Aloha setup.cfg\n",
    "\n",
    "```cfg\n",
    "[metadata]\n",
    "name = ioos_pkg_skeleton\n",
    "description = My Awesome module\n",
    "author = AUTHOR NAME\n",
    "author_email = AUTHOR@EMAIL.COM\n",
    "url = https://github.com/ioos/ioos-python-package-skeleton\n",
    "long_description = file: README.md\n",
    "long_description_content_type = text/markdown\n",
    "license = BSD-3-Clause\n",
    "license_file = LICENSE.txt\n",
    "classifiers =\n",
    "    Development Status :: 5 - Production/Stable\n",
    "    Intended Audience :: Science/Research\n",
    "    Operating System :: OS Independent\n",
    "    License :: OSI Approved :: BSD License\n",
    "    Programming Language :: Python\n",
    "    Programming Language :: Python :: 3\n",
    "    Programming Language :: Python :: 3.6\n",
    "    Programming Language :: Python :: 3.7\n",
    "    Programming Language :: Python :: 3.8\n",
    "    Topic :: Scientific/Engineering\n",
    "\n",
    "[options]\n",
    "zip_safe = False\n",
    "install_requires =\n",
    "    numpy\n",
    "    requests\n",
    "python_requires = >=3.6\n",
    "packages = find:\n",
    "\n",
    "[sdist]\n",
    "formats = gztar\n",
    "\n",
    "[check-manifest]\n",
    "ignore =\n",
    "    *.yml\n",
    "    *.yaml\n",
    "    .coveragerc\n",
    "    docs\n",
    "    docs/*\n",
    "    *.enc\n",
    "    notebooks\n",
    "    notebooks/*\n",
    "    tests\n",
    "    tests/*\n",
    "\n",
    "[flake8]\n",
    "max-line-length = 105\n",
    "select = C,E,F,W,B,B950\n",
    "ignore = E203, E501, W503\n",
    "exclude = ioos_pkg_skeleton/_version.py\n",
    "```"
   ]
  },
  {
   "cell_type": "markdown",
   "metadata": {},
   "source": [
    "## Do we still need a `requirements.txt`?\n",
    "\n",
    "```\n",
    "OWSLib>=0.8.3\n",
    "Jinja2>=2.7.3\n",
    "functools32==3.2.3-2; python_version < '3.2'\n",
    "#conda: libnetcdf\n",
    "#conda: libgdal\n",
    "```"
   ]
  },
  {
   "cell_type": "markdown",
   "metadata": {},
   "source": [
    "## Code Pause\n",
    "\n",
    "\n",
    "![](https://imgs.xkcd.com/comics/wisdom_of_the_ancients.png)"
   ]
  },
  {
   "cell_type": "markdown",
   "metadata": {},
   "source": [
    "## PEP 517/518\n",
    "\n",
    "\n",
    "- standardized non-executable config file;\n",
    "- many backends, one spec:\n",
    "  - poetry, setuptools, pipenv(?), flit, conda, etc;\n",
    "  - all should support pip installs.\n",
    "\n",
    "\n",
    "Refs.:\n",
    "\n",
    "https://www.python.org/dev/peps/pep-0517\n",
    "\n",
    "https://www.python.org/dev/peps/pep-0518\n",
    "\n",
    "https://medium.com/@grassfedcode/pep-517-and-518-in-plain-english-47208ca8b7a6"
   ]
  },
  {
   "cell_type": "markdown",
   "metadata": {},
   "source": [
    "## MANIFEST.in\n",
    "\n",
    "```\n",
    "include *.txt\n",
    "include LICENSE # Please consider the Windows users and use .txt\n",
    "include README.md\n",
    "\n",
    "recursive-include ioos_pkg_skeleton *.py\n",
    "```"
   ]
  },
  {
   "cell_type": "markdown",
   "metadata": {},
   "source": [
    "## README.md\n",
    "\n",
    "\n",
    "You should always have a README in your projects!"
   ]
  },
  {
   "cell_type": "markdown",
   "metadata": {},
   "source": [
    "## LICENSE\n",
    "\n",
    "\n",
    "```\n",
    "Copyright 2017 AUTHOR NAME\n",
    "\n",
    "\n",
    "Redistribution and use in source and binary forms,\n",
    "with or without modification,\n",
    "are permitted provided that the following conditions are met:\n",
    "\n",
    "1. Redistributions of source code must retain the above copyright notice,\n",
    "   this list of conditions and the following disclaimer.\n",
    "\n",
    "2. Redistributions in binary form must reproduce the above copyright notice,\n",
    "   this list of conditions and the following disclaimer in the documentation\n",
    "   and/or other materials provided with the distribution.\n",
    "\n",
    "3. Neither the name of the copyright holder nor the names of its contributors\n",
    "   may be used to endorse or promote products derived from this software\n",
    "   without specific prior written permission.\n",
    "\n",
    "THIS SOFTWARE IS PROVIDED BY THE COPYRIGHT HOLDERS AND CONTRIBUTORS \"AS IS\"\n",
    "AND ANY EXPRESS OR IMPLIED WARRANTIES, INCLUDING, BUT NOT LIMITED TO,\n",
    "THE IMPLIED WARRANTIES OF MERCHANTABILITY AND FITNESS FOR A PARTICULAR PURPOSE\n",
    "ARE DISCLAIMED. IN NO EVENT SHALL THE COPYRIGHT HOLDER OR CONTRIBUTORS BE\n",
    "LIABLE FOR ANY DIRECT, INDIRECT, INCIDENTAL, SPECIAL, EXEMPLARY, OR CONSEQUENTIAL DAMAGES\n",
    "(INCLUDING, BUT NOT LIMITED TO, PROCUREMENT OF SUBSTITUTE GOODS OR SERVICES;\n",
    "LOSS OF USE, DATA, OR PROFITS; OR BUSINESS INTERRUPTION)\n",
    "HOWEVER CAUSED AND ON ANY THEORY OF LIABILITY, WHETHER IN CONTRACT,\n",
    "STRICT LIABILITY, OR TORT (INCLUDING NEGLIGENCE OR OTHERWISE) ARISING IN ANY\n",
    "WAY OUT OF THE USE OF THIS SOFTWARE, EVEN IF ADVISED OF THE POSSIBILITY OF SUCH DAMAGE.\n",
    "```"
   ]
  },
  {
   "cell_type": "markdown",
   "metadata": {},
   "source": [
    "## .travis.yml: matrix\n",
    "\n",
    "```yaml\n",
    "language: minimal\n",
    "\n",
    "sudo: false\n",
    "\n",
    "env:\n",
    "  global:\n",
    "    - secure: \"TOKEN\"\n",
    "\n",
    "matrix:\n",
    "  fast_finish: true\n",
    "  include:\n",
    "    - name: \"python-3.6\"\n",
    "      env: PY=3.6\n",
    "    - name: \"python-3.8\"\n",
    "      env: PY=3.8\n",
    "    - name: \"coding_standards\"\n",
    "      env: PY=3\n",
    "    - name: \"tarball\"\n",
    "      env: PY=3\n",
    "    - name: \"docs\"\n",
    "      env: PY=3\n",
    "```"
   ]
  },
  {
   "cell_type": "markdown",
   "metadata": {},
   "source": [
    "## .travis.yml: how to install\n",
    "\n",
    "```yaml\n",
    "before_install:\n",
    "  # Install miniconda and create TEST env.\n",
    "  - |\n",
    "    wget https://repo.anaconda.com/miniconda/Miniconda3-latest-Linux-x86_64.sh -O miniconda.sh\n",
    "    bash miniconda.sh -b -p $HOME/miniconda\n",
    "    export PATH=\"$HOME/miniconda/bin:$PATH\"\n",
    "    conda config --set always_yes yes --set changeps1 no --set show_channel_urls true\n",
    "    conda update --quiet conda\n",
    "    conda config --add channels conda-forge --force\n",
    "    conda config --set channel_priority strict\n",
    "    conda create --name TEST python=$PY --file requirements.txt --file requirements-dev.txt\n",
    "    source activate TEST\n",
    "    conda info --all\n",
    "\n",
    "install:\n",
    "  - pip install -e . --no-deps --force-reinstall\n",
    "\n",
    "```"
   ]
  },
  {
   "cell_type": "markdown",
   "metadata": {},
   "source": [
    "## .travis.yml: the actual tests\n",
    "\n",
    "```yaml\n",
    "script:\n",
    "  - if [[ $TRAVIS_JOB_NAME == python-* ]]; then\n",
    "      cp -r tests/ /tmp ;\n",
    "      pushd /tmp && pytest -n 2 -rxs --cov=ioos_pkg_skeleton tests && popd ;\n",
    "    fi\n",
    "\n",
    "```"
   ]
  },
  {
   "cell_type": "markdown",
   "metadata": {},
   "source": [
    "## .travis.yml: always test de tarball\n",
    "\n",
    "```yaml\n",
    "  - if [[ $TRAVIS_JOB_NAME == 'tarball' ]]; then\n",
    "      pip wheel . -w dist --no-deps ;\n",
    "      check-manifest --verbose ;\n",
    "      twine check dist/* ;\n",
    "    fi\n",
    "```"
   ]
  },
  {
   "cell_type": "markdown",
   "metadata": {},
   "source": [
    "## .travis.yml: maybe test coding standards (pre-commit hooks are preferred)\n",
    "\n",
    "```yaml\n",
    "script:\n",
    "  - if [[ $TRAVIS_JOB_NAME == 'coding_standards' ]]; then\n",
    "      pytest --flake8 -m flake8 ;\n",
    "    fi\n",
    "```"
   ]
  },
  {
   "cell_type": "markdown",
   "metadata": {},
   "source": [
    "## .travis.yml: build the docs as part of the tests\n",
    "\n",
    "```yaml\n",
    "  - |\n",
    "    if [[ $TRAVIS_JOB_NAME == 'docs' ]]; then\n",
    "      set -e\n",
    "      cp notebooks/tutorial.ipynb docs/source/\n",
    "      pushd docs\n",
    "      make clean html linkcheck\n",
    "      popd\n",
    "      if [[ -z \"$TRAVIS_TAG\" ]]; then\n",
    "        python -m doctr deploy --build-tags --key-path github_deploy_key.enc --built-docs docs/_build/html dev\n",
    "      else\n",
    "        python -m doctr deploy --build-tags --key-path github_deploy_key.enc --built-docs docs/_build/html \"version-$TRAVIS_TAG\"\n",
    "        python -m doctr deploy --build-tags --key-path github_deploy_key.enc --built-docs docs/_build/html .\n",
    "      fi\n",
    "    fi\n",
    "\n",
    "```"
   ]
  },
  {
   "cell_type": "markdown",
   "metadata": {},
   "source": [
    "## requirements-dev.txt\n",
    "\n",
    "```\n",
    "black\n",
    "check-manifest\n",
    "doctr\n",
    "flake8\n",
    "flake8-builtins\n",
    "flake8-comprehensions\n",
    "flake8-mutable\n",
    "flake8-print\n",
    "isort\n",
    "nbsphinx\n",
    "pre-commit\n",
    "pylint\n",
    "pytest\n",
    "pytest-cov\n",
    "pytest-flake8\n",
    "pytest-xdist\n",
    "setuptools_scm\n",
    "sphinx\n",
    "twine\n",
    "wheel\n",
    "```"
   ]
  },
  {
   "cell_type": "markdown",
   "metadata": {},
   "source": [
    "## Extras pre-commit hooks: .pre-commit-config.yaml\n",
    "\n",
    "\n",
    "```yaml\n",
    "repos:\n",
    "- repo: https://github.com/pre-commit/pre-commit-hooks\n",
    "  rev: v3.1.0\n",
    "  hooks:\n",
    "    - id: trailing-whitespace\n",
    "      exclude: tests/data\n",
    "    - id: check-ast\n",
    "    - id: debug-statements\n",
    "    - id: end-of-file-fixer\n",
    "    - id: check-docstring-first\n",
    "    - id: check-added-large-files\n",
    "    - id: requirements-txt-fixer\n",
    "    - id: file-contents-sorter\n",
    "      files: requirements-dev.txt\n",
    "\n",
    "- repo: https://gitlab.com/pycqa/flake8\n",
    "  rev: 3.7.9\n",
    "  hooks:\n",
    "    - id: flake8\n",
    "      exclude: docs/source/conf.py\n",
    "      args: [--max-line-length=105, --ignore=E203,E501,W503, --select=select=C,E,F,W,B,B950]\n",
    "\n",
    "- repo: https://github.com/pre-commit/mirrors-isort\n",
    "  rev: v4.3.21\n",
    "  hooks:\n",
    "  - id: isort\n",
    "    additional_dependencies: [toml]\n",
    "    args: [--project=ioos_pkg_skeleton, --multi-line=3, --lines-after-imports=2, --lines-between-types=1, --trailing-comma, --force-grid-wrap=0, --use-parentheses, --line-width=88]\n",
    "\n",
    "- repo: https://github.com/asottile/seed-isort-config\n",
    "  rev: v2.1.1\n",
    "  hooks:\n",
    "    - id: seed-isort-config\n",
    "\n",
    "- repo: https://github.com/psf/black\n",
    "  rev: stable\n",
    "  hooks:\n",
    "  - id: black\n",
    "    language_version: python3\n",
    "\n",
    "- repo: https://github.com/pre-commit/mirrors-mypy\n",
    "  rev: v0.770\n",
    "  hooks:\n",
    "  - id: mypy\n",
    "    exclude: docs/source/conf.py\n",
    "    args: [--ignore-missing-imports]\n",
    "\n",
    "```"
   ]
  },
  {
   "cell_type": "markdown",
   "metadata": {},
   "source": [
    "## Extras pre-commit hooks: .isort.cfg\n",
    "\n",
    "\n",
    "```cfg\n",
    "[settings]\n",
    "known_third_party = numpy,pytest,requests,setuptools\n",
    "```"
   ]
  },
  {
   "cell_type": "markdown",
   "metadata": {},
   "source": [
    "## Extras pre-commit hooks: .giuthub/workflows/pre-commit.yml\n",
    "\n",
    "\n",
    "```yaml\n",
    "name: pre-commit\n",
    "\n",
    "on:\n",
    "  pull_request:\n",
    "  push:\n",
    "    branches: [master]\n",
    "\n",
    "jobs:\n",
    "  pre-commit:\n",
    "    runs-on: ubuntu-latest\n",
    "    steps:\n",
    "    - uses: actions/checkout@v1\n",
    "    - uses: actions/setup-python@v1\n",
    "    - name: set PY\n",
    "      run: echo \"::set-env name=PY::$(python --version --version | sha256sum | cut -d' ' -f1)\"\n",
    "    - uses: actions/cache@v1\n",
    "      with:\n",
    "        path: ~/.cache/pre-commit\n",
    "        key: pre-commit|${{ env.PY }}|${{ hashFiles('.pre-commit-config.yaml') }}\n",
    "    - uses: pre-commit/action@v1.0.0\n",
    "\n",
    "```"
   ]
  },
  {
   "cell_type": "markdown",
   "metadata": {},
   "source": [
    "## Summary: must have\n",
    "\n",
    "```\n",
    "- README\n",
    "  - install instructions\n",
    "- License\n",
    "- docs\n",
    "- unittest tests\n",
    "- CIs\n",
    "```"
   ]
  },
  {
   "cell_type": "markdown",
   "metadata": {},
   "source": [
    "## Summary: Nice to have\n",
    "\n",
    "```\n",
    "- automatic version number from tags\n",
    "- auto-publish docs and tarball\n",
    "- tarball automated checks\n",
    "- standard style: black, lints, isort\n",
    "- integration tests\n",
    "- Windows CI\n",
    "- Your pkg in conda-forge\n",
    "```"
   ]
  },
  {
   "cell_type": "markdown",
   "metadata": {},
   "source": [
    "## Summary: also nice to have\n",
    "\n",
    "```\n",
    "- CONTRIBUTING.rst\n",
    "- .github/\n",
    "```"
   ]
  },
  {
   "cell_type": "markdown",
   "metadata": {},
   "source": [
    "Please check out https://www.pyopensci.org/"
   ]
  }
 ],
 "metadata": {
  "kernelspec": {
   "display_name": "Python 3 (ipykernel)",
   "language": "python",
   "name": "python3"
  },
  "language_info": {
   "codemirror_mode": {
    "name": "ipython",
    "version": 3
   },
   "file_extension": ".py",
   "mimetype": "text/x-python",
   "name": "python",
   "nbconvert_exporter": "python",
   "pygments_lexer": "ipython3",
   "version": "3.11.0"
  }
 },
 "nbformat": 4,
 "nbformat_minor": 4
}
